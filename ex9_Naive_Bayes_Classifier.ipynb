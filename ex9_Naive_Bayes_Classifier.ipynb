{
  "nbformat": 4,
  "nbformat_minor": 0,
  "metadata": {
    "colab": {
      "provenance": []
    },
    "kernelspec": {
      "name": "python3",
      "display_name": "Python 3"
    },
    "language_info": {
      "name": "python"
    }
  },
  "cells": [
    {
      "cell_type": "code",
      "execution_count": 1,
      "metadata": {
        "id": "ex1pAa34EBOf"
      },
      "outputs": [],
      "source": [
        "import numpy as np\n",
        "from sklearn.datasets import fetch_20newsgroups\n",
        "from sklearn.feature_extraction.text import CountVectorizer\n",
        "from sklearn.feature_extraction.text import TfidfTransformer\n",
        "from sklearn.naive_bayes import MultinomialNB\n",
        "from sklearn.pipeline import Pipeline"
      ]
    },
    {
      "cell_type": "code",
      "source": [
        "categories = [\"rec.motorcycles\", \"sci.electronics\", \"comp.graphics\", \"sci.med\"]\n",
        "train_data = fetch_20newsgroups(\n",
        "    subset=\"train\", categories=categories, shuffle=True, random_state=42\n",
        ")\n",
        "print(train_data.target_names)\n",
        "print(\"\\n\".join(train_data.data[0].split(\"\\n\")[:3]))\n",
        "print(train_data.target_names[train_data.target[0]])\n",
        "for t in train_data.target[:10]:\n",
        "    print(train_data.target_names[t])"
      ],
      "metadata": {
        "colab": {
          "base_uri": "https://localhost:8080/"
        },
        "id": "eZj_C5DAEMPC",
        "outputId": "71e2da9e-74c8-49a7-ab10-a5b0d0181f0a"
      },
      "execution_count": 2,
      "outputs": [
        {
          "output_type": "stream",
          "name": "stdout",
          "text": [
            "['comp.graphics', 'rec.motorcycles', 'sci.electronics', 'sci.med']\n",
            "From: kreyling@lds.loral.com (Ed Kreyling 6966)\n",
            "Subject: Sun-os and 8bit ASCII graphics\n",
            "Organization: Loral Data Systems\n",
            "comp.graphics\n",
            "comp.graphics\n",
            "comp.graphics\n",
            "rec.motorcycles\n",
            "comp.graphics\n",
            "sci.med\n",
            "sci.electronics\n",
            "sci.electronics\n",
            "comp.graphics\n",
            "rec.motorcycles\n",
            "sci.electronics\n"
          ]
        }
      ]
    },
    {
      "cell_type": "code",
      "source": [
        "count_vect = CountVectorizer()\n",
        "X_train_counts = count_vect.fit_transform(train_data.data)\n",
        "tfidf_transformer = TfidfTransformer()\n",
        "X_train_tfidf = tfidf_transformer.fit_transform(X_train_counts)"
      ],
      "metadata": {
        "id": "xdW3aaEJEWg4"
      },
      "execution_count": 3,
      "outputs": []
    },
    {
      "cell_type": "code",
      "source": [
        "clf = MultinomialNB().fit(X_train_tfidf, train_data.target)\n",
        "docs_new = [\"I have a Harley Davidson and Yamaha.\", \"I have a GTX 1050 GPU\"]\n",
        "X_new_counts = count_vect.transform(docs_new)\n",
        "X_new_tfidf = tfidf_transformer.transform(X_new_counts)"
      ],
      "metadata": {
        "id": "sBFhkPcQEewy"
      },
      "execution_count": 5,
      "outputs": []
    },
    {
      "cell_type": "code",
      "source": [
        "predicted = clf.predict(X_new_tfidf)\n",
        "for doc, category in zip(docs_new, predicted):\n",
        "    print(\"%r => %s\" % (doc, train_data.target_names[category]))"
      ],
      "metadata": {
        "colab": {
          "base_uri": "https://localhost:8080/"
        },
        "id": "eaIi6rl9EpzA",
        "outputId": "fef95d39-fcd8-4ac1-9438-57816ccab6a6"
      },
      "execution_count": 6,
      "outputs": [
        {
          "output_type": "stream",
          "name": "stdout",
          "text": [
            "'I have a Harley Davidson and Yamaha.' => rec.motorcycles\n",
            "'I have a GTX 1050 GPU' => sci.med\n"
          ]
        }
      ]
    },
    {
      "cell_type": "code",
      "source": [
        "text_clf = Pipeline(\n",
        "    [\n",
        "        (\"vect\", CountVectorizer()),\n",
        "        (\"tfidf\", TfidfTransformer()),\n",
        "        (\"clf\", MultinomialNB()),\n",
        "    ]\n",
        ")\n",
        "text_clf.fit(train_data.data, train_data.target)\n",
        "test_data = fetch_20newsgroups(\n",
        "    subset=\"test\", categories=categories, shuffle=True, random_state=42\n",
        ")\n",
        "docs_test = test_data.data\n",
        "predicted = text_clf.predict(docs_test)\n",
        "print(\"We got an accuracy of\", np.mean(predicted == test_data.target) * 100, \"%\")"
      ],
      "metadata": {
        "colab": {
          "base_uri": "https://localhost:8080/"
        },
        "id": "eihi7dD1E6-v",
        "outputId": "00506566-5ce1-48bb-fcab-4afdc083a9f4"
      },
      "execution_count": 7,
      "outputs": [
        {
          "output_type": "stream",
          "name": "stdout",
          "text": [
            "We got an accuracy of 91.49746192893402 %\n"
          ]
        }
      ]
    }
  ]
}